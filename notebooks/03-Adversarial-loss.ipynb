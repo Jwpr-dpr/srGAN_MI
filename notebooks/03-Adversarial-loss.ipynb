{
 "cells": [
  {
   "cell_type": "markdown",
   "id": "3ea03a01",
   "metadata": {},
   "source": [
    "# **Adversarial Loss**\n",
    "\n",
    "in this notebook is contained a brief but complete guide on adversarial loss, including theoretical background, application and implementation examples.\n",
    "\n",
    "Author:  \n",
    "@jwpr-dpr  \n",
    "16-04-2025"
   ]
  },
  {
   "cell_type": "markdown",
   "id": "b404fda0",
   "metadata": {},
   "source": [
    "## **Introduction to Adversarial Loss**\n",
    "\n",
    "In recent years, *Generative Adversarial Networks* (GANs) have become one of the most exciting breakthroughs in deep learning. From creating photorealistic images to enabling high-quality image translation, the success of GANs can be largely attributed to a novel training strategy based on a concept known as **adversarial loss**.\n",
    "\n",
    "But what exactly is adversarial loss?\n",
    "\n",
    "In essence, adversarial loss arises from a **game between two neural networks**: a **Generator** (G) and a **Discriminator** (D). The generator's job is to produce data that resembles the real data, while the discriminator's task is to distinguish between real and fake data. These networks are trained together in a **minimax game** where:\n",
    "- The generator tries to \"fool\" the discriminator by generating realistic data.\n",
    "- The discriminator tries not to be fooled by correctly identifying real vs. fake samples.\n",
    "\n",
    "This competition drives both networks to improve over time, resulting in a generator that produces data increasingly close to the real distribution.\n",
    "\n",
    "In this guide, we will explore:\n",
    "- The theoretical foundation of adversarial loss\n",
    "- Different types of adversarial loss functions\n",
    "- How these losses behave during training\n"
   ]
  },
  {
   "cell_type": "markdown",
   "id": "4eb30c9a",
   "metadata": {},
   "source": [
    "## **Theoretical Background**\n",
    "\n",
    "To understand adversarial loss, we first need to understand the setup of a **Generative Adversarial Network (GAN)**. A GAN consists of two components:\n",
    "\n",
    "- **Generator (G)**: Takes in a random noise vector $ z \\sim p_z $ and produces synthetic data $ G(z) $.\n",
    "- **Discriminator (D)**: Takes in real data $ x \\sim p_{\\text{data}} $ and fake data $ G(z) $, and tries to classify them correctly.\n",
    "\n",
    "The goal is to train these two models in a competitive game:\n",
    "- The **discriminator** aims to **maximize** its ability to distinguish real from fake.\n",
    "- The **generator** aims to **minimize** the discriminator's ability by producing data that looks real.\n",
    "\n",
    "This interaction is formalized in the original GAN objective as:\n",
    "\n",
    "$$\n",
    "\\min_G \\max_D \\, V(D, G) = \\mathbb{E}_{x \\sim p_{\\text{data}}}[\\log D(x)] + \\mathbb{E}_{z \\sim p_z}[\\log(1 - D(G(z)))]\n",
    "$$\n",
    "\n",
    "---\n",
    "\n",
    "Where:\n",
    "- $ D(x) $: Probability that input $ x $ is real.\n",
    "- $ D(G(z)) $: Probability that generated data is real.\n",
    "- The discriminator wants $ D(x) \\to 1 $ and $ D(G(z)) \\to 0 $.\n",
    "- The generator wants to \"fool\" the discriminator, i.e., push $ D(G(z)) \\to 1 $.\n",
    "\n",
    "This setup can be interpreted as a **two-player zero-sum game**:\n",
    "- One player's gain is the other player's loss.\n",
    "- Ideally, training reaches a **Nash equilibrium**, where $ G $ generates data indistinguishable from real, and $ D(x) = 0.5 $ for all inputs.\n",
    "\n",
    "\n",
    "Despite its elegance, the original loss function has some **practical issues**:\n",
    "- **Vanishing gradients**: If the discriminator gets too good early in training, $ \\log(1 - D(G(z))) $ flattens out, and the generator stops learning.\n",
    "- **Instability**: Training can be very sensitive to hyperparameters and initialization.\n",
    "\n",
    "To address these issues, several alternative loss functions have been proposed:\n",
    "\n",
    "| **Loss Name**          | **Discriminator Loss**                             | **Generator Loss**                                     | **Notes**                                                                 |\n",
    "|------------------------|----------------------------------------------------|--------------------------------------------------------|--------------------------------------------------------------------------|\n",
    "| Original GAN (minimax) | $ -\\log D(x) - \\log(1 - D(G(z))) $               | $ \\log(1 - D(G(z))) $                                | Can lead to vanishing gradients                                          |\n",
    "| Non-saturating GAN     | $ -\\log D(x) - \\log(1 - D(G(z))) $               | $ -\\log D(G(z)) $                                    | Helps generator learn better in early training                          |\n",
    "| Least Squares GAN      | $ (D(x) - 1)^2 + (D(G(z)))^2 $                   | $ (D(G(z)) - 1)^2 $                                  | Penalizes outputs based on distance from correct labels                 |\n",
    "| Hinge Loss             | $ \\max(0, 1 - D(x)) + \\max(0, 1 + D(G(z))) $     | $ -D(G(z)) $                                         | Widely used in high-resolution image synthesis                         |\n",
    "| WGAN                   | $ D(x) - D(G(z)) $                               | $ -D(G(z)) $                                         | Requires Lipschitz continuity (weight clipping or gradient penalty)     |\n",
    "| WGAN-GP                | $ D(x) - D(G(z)) + \\lambda \\cdot \\text{GP} $     | $ -D(G(z)) $                                         | Improves training stability with gradient penalty                       |\n",
    "\n",
    ">  **GP** refers to the gradient penalty term that enforces Lipschitz continuity in WGAN-GP.\n",
    "\n",
    "Each of these losses adjusts how the generator and discriminator receive feedback, impacting **stability, convergence speed**, and **output quality**.\n",
    "\n",
    "\n",
    "In resume, Adversarial loss is more than a single equation — it’s a family of strategies built around the same idea: two networks trying to outsmart each other. Choosing the right variant for your task and tuning its training behavior are crucial to success in adversarial learning.\n",
    "\n",
    "In the next section, we’ll begin implementing a minimal GAN using the original adversarial loss and visualize how it evolves during training.\n"
   ]
  },
  {
   "cell_type": "markdown",
   "id": "aeebd7e7",
   "metadata": {},
   "source": [
    "## **Basic Implementation**"
   ]
  },
  {
   "cell_type": "code",
   "execution_count": 1,
   "id": "c528446e",
   "metadata": {},
   "outputs": [],
   "source": [
    "# Import required libraries\n",
    "import torch\n",
    "import torch.nn as nn\n",
    "import torch.optim as optim\n",
    "import torchvision\n",
    "import torchvision.transforms as transforms\n",
    "import matplotlib.pyplot as plt\n",
    "import numpy as np"
   ]
  },
  {
   "cell_type": "markdown",
   "id": "ca99518e",
   "metadata": {},
   "source": [
    "### **Step 1: Define Generator and discriminator**"
   ]
  },
  {
   "cell_type": "code",
   "execution_count": 2,
   "id": "d403b5ac",
   "metadata": {},
   "outputs": [],
   "source": [
    "# Generator Network\n",
    "class Generator(nn.Module):\n",
    "    def __init__(self, latent_dim, img_dim):\n",
    "        super(Generator, self).__init__()\n",
    "        self.model = nn.Sequential(\n",
    "            nn.Linear(latent_dim, 128),\n",
    "            nn.ReLU(True),\n",
    "            nn.Linear(128, 256),\n",
    "            nn.ReLU(True),\n",
    "            nn.Linear(256, img_dim),\n",
    "            nn.Tanh()  # Output in range [-1, 1]\n",
    "        )\n",
    "\n",
    "    def forward(self, z):\n",
    "        return self.model(z)\n",
    "\n",
    "# Discriminator Network\n",
    "class Discriminator(nn.Module):\n",
    "    def __init__(self, img_dim):\n",
    "        super(Discriminator, self).__init__()\n",
    "        self.model = nn.Sequential(\n",
    "            nn.Linear(img_dim, 256),\n",
    "            nn.LeakyReLU(0.2, inplace=True),\n",
    "            nn.Linear(256, 128),\n",
    "            nn.LeakyReLU(0.2, inplace=True),\n",
    "            nn.Linear(128, 1),\n",
    "            nn.Sigmoid()  # Output probability\n",
    "        )\n",
    "\n",
    "    def forward(self, x):\n",
    "        return self.model(x)\n"
   ]
  },
  {
   "cell_type": "markdown",
   "id": "ed7abf56",
   "metadata": {},
   "source": [
    "### **Step 2: Load a Dataset**"
   ]
  },
  {
   "cell_type": "code",
   "execution_count": 3,
   "id": "87acab58",
   "metadata": {},
   "outputs": [
    {
     "name": "stderr",
     "output_type": "stream",
     "text": [
      "100%|██████████| 9.91M/9.91M [00:02<00:00, 4.79MB/s]\n",
      "100%|██████████| 28.9k/28.9k [00:00<00:00, 344kB/s]\n",
      "100%|██████████| 1.65M/1.65M [00:00<00:00, 2.12MB/s]\n",
      "100%|██████████| 4.54k/4.54k [00:00<00:00, 2.27MB/s]\n"
     ]
    }
   ],
   "source": [
    "# MNIST dataset (flattened)\n",
    "transform = transforms.Compose([\n",
    "    transforms.ToTensor(),\n",
    "    transforms.Normalize([0.5], [0.5])  # Normalize to [-1, 1]\n",
    "])\n",
    "\n",
    "dataset = torchvision.datasets.MNIST(root='../data', train=True, transform=transform, download=True)\n",
    "dataloader = torch.utils.data.DataLoader(dataset, batch_size=64, shuffle=True)\n"
   ]
  },
  {
   "cell_type": "markdown",
   "id": "42fe3895",
   "metadata": {},
   "source": [
    "### **Step 3: Initialize Models, Loss and optimizers**"
   ]
  },
  {
   "cell_type": "code",
   "execution_count": 4,
   "id": "f4edc499",
   "metadata": {},
   "outputs": [],
   "source": [
    "device = torch.device(\"cuda\" if torch.cuda.is_available() else \"cpu\")\n",
    "\n",
    "latent_dim = 100\n",
    "img_dim = 28 * 28  # Flattened MNIST image\n",
    "\n",
    "g = Generator(latent_dim, img_dim).to(device)\n",
    "d = Discriminator(img_dim).to(device)\n",
    "\n",
    "criterion = nn.BCELoss()\n",
    "lr = 0.0002\n",
    "\n",
    "optimizer_G = optim.Adam(g.parameters(), lr=lr, betas=(0.5, 0.999))\n",
    "optimizer_D = optim.Adam(d.parameters(), lr=lr, betas=(0.5, 0.999))\n"
   ]
  },
  {
   "cell_type": "markdown",
   "id": "fef7c859",
   "metadata": {},
   "source": [
    "### **Step 4: Training loop with loss tracking**"
   ]
  },
  {
   "cell_type": "code",
   "execution_count": 5,
   "id": "2c6161cd",
   "metadata": {},
   "outputs": [
    {
     "name": "stdout",
     "output_type": "stream",
     "text": [
      "Epoch [1/15] | G Loss: 1.5457 | D Loss: 0.8056 | Adv Loss: 2.3513\n",
      "Epoch [2/15] | G Loss: 2.9369 | D Loss: 0.4855 | Adv Loss: 3.4224\n",
      "Epoch [3/15] | G Loss: 3.5745 | D Loss: 0.4047 | Adv Loss: 3.9793\n",
      "Epoch [4/15] | G Loss: 3.6247 | D Loss: 0.3537 | Adv Loss: 3.9783\n",
      "Epoch [5/15] | G Loss: 4.0975 | D Loss: 0.2971 | Adv Loss: 4.3946\n",
      "Epoch [6/15] | G Loss: 4.1081 | D Loss: 0.2773 | Adv Loss: 4.3854\n",
      "Epoch [7/15] | G Loss: 3.8852 | D Loss: 0.3114 | Adv Loss: 4.1966\n",
      "Epoch [8/15] | G Loss: 3.8281 | D Loss: 0.2991 | Adv Loss: 4.1272\n",
      "Epoch [9/15] | G Loss: 3.1511 | D Loss: 0.4011 | Adv Loss: 3.5522\n",
      "Epoch [10/15] | G Loss: 2.9505 | D Loss: 0.4494 | Adv Loss: 3.3998\n",
      "Epoch [11/15] | G Loss: 2.7515 | D Loss: 0.4516 | Adv Loss: 3.2030\n",
      "Epoch [12/15] | G Loss: 2.8550 | D Loss: 0.4896 | Adv Loss: 3.3445\n",
      "Epoch [13/15] | G Loss: 2.9133 | D Loss: 0.5167 | Adv Loss: 3.4300\n",
      "Epoch [14/15] | G Loss: 2.8385 | D Loss: 0.5824 | Adv Loss: 3.4210\n",
      "Epoch [15/15] | G Loss: 2.8370 | D Loss: 0.6033 | Adv Loss: 3.4403\n"
     ]
    }
   ],
   "source": [
    "epochs = 15\n",
    "\n",
    "g_losses = []\n",
    "d_losses = []\n",
    "adv_losses = []\n",
    "\n",
    "for epoch in range(epochs):\n",
    "    g_loss_epoch = 0.0\n",
    "    d_loss_epoch = 0.0\n",
    "    num_batches = 0\n",
    "\n",
    "    for i, (real_imgs, _) in enumerate(dataloader):\n",
    "        batch_size = real_imgs.size(0)\n",
    "        real_imgs = real_imgs.view(batch_size, -1).to(device)\n",
    "\n",
    "        # Ground truths\n",
    "        real = torch.ones(batch_size, 1).to(device)\n",
    "        fake = torch.zeros(batch_size, 1).to(device)\n",
    "\n",
    "        ### 1. Train Discriminator ###\n",
    "        z = torch.randn(batch_size, latent_dim).to(device)\n",
    "        fake_imgs = g(z)\n",
    "\n",
    "        real_loss = criterion(d(real_imgs), real)\n",
    "        fake_loss = criterion(d(fake_imgs.detach()), fake)\n",
    "        d_loss = real_loss + fake_loss\n",
    "\n",
    "        optimizer_D.zero_grad()\n",
    "        d_loss.backward()\n",
    "        optimizer_D.step()\n",
    "\n",
    "        ### 2. Train Generator ###\n",
    "        z = torch.randn(batch_size, latent_dim).to(device)\n",
    "        fake_imgs = g(z)\n",
    "        g_loss = criterion(d(fake_imgs), real)\n",
    "\n",
    "        optimizer_G.zero_grad()\n",
    "        g_loss.backward()\n",
    "        optimizer_G.step()\n",
    "\n",
    "        ### 3. Accumulate epoch losses ###\n",
    "        g_loss_epoch += g_loss.item()\n",
    "        d_loss_epoch += d_loss.item()\n",
    "        num_batches += 1\n",
    "\n",
    "    # Average losses per epoch\n",
    "    g_loss_epoch /= num_batches\n",
    "    d_loss_epoch /= num_batches\n",
    "    adv_loss_epoch = g_loss_epoch + d_loss_epoch\n",
    "\n",
    "    g_losses.append(g_loss_epoch)\n",
    "    d_losses.append(d_loss_epoch)\n",
    "    adv_losses.append(adv_loss_epoch)\n",
    "\n",
    "    print(f\"Epoch [{epoch+1}/{epochs}] | G Loss: {g_loss_epoch:.4f} | D Loss: {d_loss_epoch:.4f} | Adv Loss: {adv_loss_epoch:.4f}\")\n",
    "\n",
    "torch.save(g.state_dict(), f'../test/gen_epoch_{epoch}.pth')\n",
    "torch.save(d.state_dict(), f'../test/disc_epoch_{epoch}.pth')\n"
   ]
  },
  {
   "cell_type": "markdown",
   "id": "9f987001",
   "metadata": {},
   "source": [
    "### **Step 5: Plot the loss curves**"
   ]
  },
  {
   "cell_type": "code",
   "execution_count": 6,
   "id": "3f9bcd60",
   "metadata": {},
   "outputs": [
    {
     "data": {
      "image/png": "[encoded data removed]",
      "text/plain": [
       "<Figure size 800x500 with 1 Axes>"
      ]
     },
     "metadata": {},
     "output_type": "display_data"
    }
   ],
   "source": [
    "def plot_combined_losses(g_losses, d_losses, adv_losses):\n",
    "    epochs = range(1, len(g_losses) + 1)\n",
    "    plt.figure(figsize=(8, 5))\n",
    "    \n",
    "    plt.plot(epochs, g_losses, label=\"Generator Loss\", color='green', linewidth=2)\n",
    "    plt.plot(epochs, d_losses, label=\"Discriminator Loss\", color='red', linewidth=2)\n",
    "    plt.plot(epochs, adv_losses, label=\"Adversarial Loss\", color='blue', linestyle='--', linewidth=2)\n",
    "    \n",
    "    plt.title(\"GAN Losses per Epoch\")\n",
    "    plt.xlabel(\"Epoch\")\n",
    "    plt.ylabel(\"Loss\")\n",
    "    plt.legend()\n",
    "    plt.grid(True)\n",
    "    plt.tight_layout()\n",
    "    plt.show()\n",
    "\n",
    "plot_combined_losses(g_losses, d_losses, adv_losses)\n"
   ]
  },
  {
   "cell_type": "markdown",
   "id": "4906537d",
   "metadata": {},
   "source": [
    "And there you go. A very bad and undertrained model. The important thing here, is that now you know hot to perform adversarial loss."
   ]
  }
 ],
 "metadata": {
  "kernelspec": {
   "display_name": "deep",
   "language": "python",
   "name": "python3"
  },
  "language_info": {
   "codemirror_mode": {
    "name": "ipython",
    "version": 3
   },
   "file_extension": ".py",
   "mimetype": "text/x-python",
   "name": "python",
   "nbconvert_exporter": "python",
   "pygments_lexer": "ipython3",
   "version": "3.10.16"
  }
 },
 "nbformat": 4,
 "nbformat_minor": 5
}
