{
 "cells": [
  {
   "cell_type": "markdown",
   "id": "9cf30cd4",
   "metadata": {},
   "source": [
    "# **Grad-CAM**\n",
    "\n",
    "In this notebook is contained a brief explanation on grad-CAM technique for explainble AI and also an explanation of its aplication on SR-GANs\n",
    "\n",
    "Author:  \n",
    "@jwpr-dpr  \n",
    "17-04-2025"
   ]
  },
  {
   "cell_type": "markdown",
   "id": "336af362",
   "metadata": {},
   "source": [
    "# **Introduction**\n",
    "In recent years, deep learning has revolutionized the field of computer vision, enabling powerful models that can not only classify objects with human-level accuracy but also generate highly detailed images from low-resolution inputs. One such breakthrough is the Super-Resolution Generative Adversarial Network (SRGAN), which produces photorealistic high-resolution images by learning to hallucinate plausible textures.\n",
    "\n",
    "However, as these models grow more complex and powerful, they also become increasingly opaque. Understanding why a model makes a particular decision—or what parts of an image it focuses on—remains a major challenge. This lack of interpretability limits trust and hinders the adoption of deep learning systems in critical applications such as medical imaging or remote sensing.\n",
    "\n",
    "To address this, Grad-CAM (Gradient-weighted Class Activation Mapping) has emerged as a popular method for visualizing which parts of an image a convolutional neural network (CNN) considers important for its decisions. Originally designed for image classifiers, Grad-CAM highlights salient regions in an input image by backpropagating gradients from a target output through the network.\n",
    "\n",
    "In this notebook, we explore how Grad-CAM works and extend it beyond classification tasks to interpret generative models, specifically SRGANs. By applying Grad-CAM to components like the discriminator and the VGG-based perceptual loss, we can uncover valuable insights into what these networks consider \"realistic\" when generating high-resolution images.\n",
    "\n",
    "This tutorial is structured to provide both the theoretical foundation and hands-on implementation of Grad-CAM, guiding you step-by-step from basic visual explanations to advanced applications in SRGANs."
   ]
  },
  {
   "cell_type": "markdown",
   "id": "67711a42",
   "metadata": {},
   "source": [
    "## **Basic Theory of Grad-CAM**\n",
    "Understanding how deep convolutional neural networks (CNNs) make decisions is crucial for debugging models, validating robustness, and building trust in AI systems. Grad-CAM (Gradient-weighted Class Activation Mapping) is a widely used technique for achieving this. It produces visual explanations by highlighting regions of the input image that are important for a particular prediction.\n",
    "\n",
    "### Intuition Behind Grad-CAM\n",
    "CNNs process an image through successive layers of convolutions to extract increasingly abstract features. By the time we reach the final convolutional layers, these feature maps encode high-level spatial information about objects in the image.\n",
    "\n",
    "Grad-CAM works by:\n",
    "\n",
    "1. Selecting the target class (e.g., \"cat\") or any scalar output from the model.\n",
    "2. Computing the gradient of this output with respect to the feature maps of a convolutional layer.\n",
    "3. Using these gradients to determine the importance of each feature map.\n",
    "4. Combining the weighted feature maps to create a heatmap of relevant regions in the image.\n",
    "\n",
    "This heatmap is then overlaid on the input image, providing a localized visual explanation.\n",
    "\n",
    "### Mathematical Formulation\n",
    "Let $A^{k} \\in \\mathbb{R}^{\\mathbb{H} \\times \\mathbb{W}}$ be the $k$-th feature map of a selected convolutional layer and $y^c$ be the scalar output of interest\n",
    "\n",
    "Grad-CAM computes:\n",
    "1. Gradients of the target score with respect to feature maps:\n",
    "$$ \\frac{\\partial y^c}{\\partial A^{k}_{ij}} $$\n",
    "\n",
    "2. Global average pooling over spatial dimensions (i,j), to obtain importance weights\n",
    "$$ \\alpha_{k}^{c} = \\frac{1}{Z} \\sum_i \\sum_j \\frac{\\partial y^c}{\\partial A^{k}_{ij}} $$\n",
    "\n",
    "Where $Z = \\mathbb{H} \\times \\mathbb{W}$\n",
    "\n",
    "3. Weighted combination of feature maps followed by ReLU:\n",
    "\n",
    "$$L_{\\text{Grad-CAM}} = \\text{ReLU} \\left( \\sum_k \\alpha_{k}^{c} A^{k} \\right) $$\n",
    "* ReLU is applied to focus only on features that have a positive influence on the output class\n",
    "* The result $L_{\\text{Grad-CAM}}$ is a coarse heatmap that highlights important regions\n",
    "\n",
    "The last convolutional layer is typically used for Grad-CAM because it retains rich spatial information and has high-level semantic features. Earlier layers may provide more localized but less semantically meaningful information."
   ]
  },
  {
   "cell_type": "markdown",
   "id": "7c2891a1",
   "metadata": {},
   "source": [
    "## **Applying Grad-CAM to SRGANs**\n",
    "Grad-CAM is traditionally used with classification networks, where a scalar output (like a class logit) is naturally defined. But SRGANs are generative models, and the generator doesn't produce a scalar—it outputs an image.\n",
    "\n",
    "So how can we apply Grad-CAM in this context?\n",
    "\n",
    "To make Grad-CAM meaningful for SRGANs, we must rethink the target scalar output. In SRGANs, we can focus on two components that do produce scalar outputs:\n",
    "\n",
    "The discriminator, which predicts realism.\n",
    "\n",
    "The VGG-based perceptual loss, which measures similarity to the ground truth in feature space.\n",
    "\n",
    "Let’s walk through both options:\n",
    "\n",
    "### 1. Grad-CAM on the Discriminator\n",
    "The discriminator in SRGAN is a CNN classifier that distinguishes between real high-resolution (HR) images and generated super-resolved (SR) images. The discriminator outputs a scalar “realness” score → perfect for Grad-CAM. Applying Grad-CAM to this score tells us what parts of the image made it look real (or fake) to the discriminator.\n",
    "\n",
    "* How to apply it:  \n",
    "Pass the generated image to the discriminator. Choose the output before the sigmoid (the logit). Select a deep convolutional layer in the discriminator. Backpropagate the score through this layer. Use Grad-CAM to generate a heatmap over the image.\n",
    "\n",
    "* What we learn:  \n",
    "Where the discriminator \"looks\" to make its judgment. Whether it focuses on textures, edges, or artifacts. Which regions convince it the image is real (or fake).\n",
    "\n",
    "### 2. Grad-CAM via VGG-based Perceptual Loss\n",
    "SRGANs include a content loss term based on feature distances from a pretrained VGG network. This perceptual loss helps the generator produce images with texture and semantic fidelity. The perceptual loss is scalar (e.g., MSE between VGG feature maps). It represents how different the generated image is from the ground truth in perceptual space.\n",
    "\n",
    "* How to apply it:  \n",
    "Compute the perceptual loss between the SR and HR images using VGG. Choose an intermediate convolutional layer from VGG (e.g., conv3_3 or conv4_4). Backpropagate the perceptual loss through this layer. Apply Grad-CAM to see which areas contribute most to the loss.\n",
    "\n",
    "* What we learn:  \n",
    "What regions the generator fails to capture perceptually. Which textures or structures are causing high perceptual loss. Where improvements could be made.\n",
    "\n",
    "|Target | Pros | Cons\n",
    "|---|---|---|\n",
    "|Discriminator output | Directly shows realism regions | May focus on GAN-specific artifacts|\n",
    "|Perceptual loss | Highlights perceptual mismatch | Harder to interpret without ground truth|"
   ]
  },
  {
   "cell_type": "markdown",
   "id": "b2a5cce6",
   "metadata": {},
   "source": [
    "## **Grad-CAM Implementation for SRGAN**\n",
    "\n",
    "Let's build an implementation of Grad-CAM for SRGAN, focusing first on the discriminator, since it's the most straightforward application. By loading a generator, a discriminator and a low resolution image to super-resolve. We’ll set up hooks to Store the feature maps from a target convolutional layer and store the gradients of the output with respect to these maps."
   ]
  },
  {
   "cell_type": "code",
   "execution_count": 30,
   "id": "eb2a31f7",
   "metadata": {},
   "outputs": [],
   "source": [
    "# load the requiered libraries\n",
    "import torch\n",
    "import torch.nn as nn\n",
    "import torchvision.transforms as transforms\n",
    "import torchvision.datasets as datasets\n",
    "import matplotlib.pyplot as plt\n",
    "import numpy as np\n",
    "import cv2\n",
    "import random\n",
    "from PIL import Image\n",
    "import torch.nn.functional as F"
   ]
  },
  {
   "cell_type": "code",
   "execution_count": 31,
   "id": "a9b47770",
   "metadata": {},
   "outputs": [],
   "source": [
    "# Let's use the simple generator and discriminator gotten from the 03-Adversarial-loss.ipynb notebook\n",
    "\n",
    "# === Device ===\n",
    "device = torch.device(\"cuda\" if torch.cuda.is_available() else \"cpu\")\n",
    "\n",
    "from torchvision import datasets, transforms\n",
    "import random\n",
    "\n",
    "transform = transforms.Compose([\n",
    "    transforms.ToTensor(),  # Convert to tensor\n",
    "    transforms.Normalize((0.5,), (0.5,))  # Normalize to match training\n",
    "])\n",
    "\n",
    "mnist_data = datasets.MNIST(root=\"../data\", train=False, download=True, transform=transform)\n",
    "random_index = random.randint(0, len(mnist_data) - 1)\n",
    "lr_img, label = mnist_data[random_index]\n",
    "lr_img = lr_img.view(1, -1).to(device)  # Flatten to (1, 784)\n"
   ]
  },
  {
   "cell_type": "code",
   "execution_count": null,
   "id": "77fa143b",
   "metadata": {},
   "outputs": [],
   "source": [
    "# === Step 2: Define Generator and Discriminator (same as used in training) ===\n",
    "class Generator(nn.Module):\n",
    "    def __init__(self, latent_dim, img_dim):\n",
    "        super(Generator, self).__init__()\n",
    "        self.model = nn.Sequential(\n",
    "            nn.Linear(latent_dim, 128),\n",
    "            nn.ReLU(True),\n",
    "            nn.Linear(128, 256),\n",
    "            nn.ReLU(True),\n",
    "            nn.Linear(256, img_dim),\n",
    "            nn.Tanh()  # Output in range [-1, 1]\n",
    "        )\n",
    "\n",
    "    def forward(self, z):\n",
    "        return self.model(z)\n"
   ]
  },
  {
   "cell_type": "markdown",
   "id": "2f5bb7bd",
   "metadata": {},
   "source": [
    "> Now, before continue, please notice that we are keeping the same simple Generator, but the discriminator is diferent. Why is that?\n",
    "\n",
    "The reason is because we can't use Grad-CAM with only fully connected layers.\n",
    "\n",
    "Grad-CAM needs spatial information to work. FC layers flatten everything, losing this structure.\n",
    "\n",
    "* Fully Connected layers → vector output\n",
    "* Convolutional layers → feature maps with spatial dimensions\n",
    "\n",
    "Grad-CAM requires:\n",
    "\n",
    "* Feature maps from a convolutional layer (shape: [C, H, W])\n",
    "* Gradients w.r.t. those maps to know which spatial regions matter\n",
    "\n",
    "So, if your discriminator is just fully connected layers, you can’t compute a spatial heatmap, because there’s no spatial info left to highlight."
   ]
  },
  {
   "cell_type": "code",
   "execution_count": null,
   "id": "e17716d1",
   "metadata": {},
   "outputs": [],
   "source": [
    "# Discriminator Network\n",
    "class ConvDiscriminator(nn.Module):\n",
    "    def __init__(self):\n",
    "        super(ConvDiscriminator, self).__init__()\n",
    "        self.features = nn.Sequential(\n",
    "            nn.Conv2d(1, 64, kernel_size=4, stride=2, padding=1),  # 28x28 → 14x14\n",
    "            nn.LeakyReLU(0.2),\n",
    "            nn.Conv2d(64, 128, kernel_size=4, stride=2, padding=1),  # 14x14 → 7x7\n",
    "            nn.LeakyReLU(0.2),\n",
    "        )\n",
    "        self.classifier = nn.Sequential(\n",
    "            nn.Flatten(),\n",
    "            nn.Linear(128 * 7 * 7, 1),\n",
    "            nn.Sigmoid()\n",
    "        )\n",
    "\n",
    "    def forward(self, x):\n",
    "        feats = self.features(x)\n",
    "        out = self.classifier(feats)\n",
    "        return out"
   ]
  },
  {
   "cell_type": "markdown",
   "id": "9b7772e0",
   "metadata": {},
   "source": [
    "Why a Convolutional Discriminator Is Needed for Grad-CAM?\n",
    "If you're using Grad-CAM to interpret a discriminator (as in a GAN or SRGAN setup), you must design the discriminator with convolutional layers, so:\n",
    "\n",
    "* You have feature maps with spatial resolution\n",
    "* You can compute gradients w.r.t. those maps\n",
    "* You can generate meaningful visual explanations for where the discriminator is focusing"
   ]
  },
  {
   "cell_type": "code",
   "execution_count": 38,
   "id": "88dbd5d5",
   "metadata": {},
   "outputs": [
    {
     "data": {
      "text/plain": [
       "ConvDiscriminator(\n",
       "  (features): Sequential(\n",
       "    (0): Conv2d(1, 64, kernel_size=(4, 4), stride=(2, 2), padding=(1, 1))\n",
       "    (1): LeakyReLU(negative_slope=0.2)\n",
       "    (2): Conv2d(64, 128, kernel_size=(4, 4), stride=(2, 2), padding=(1, 1))\n",
       "    (3): LeakyReLU(negative_slope=0.2)\n",
       "  )\n",
       "  (classifier): Sequential(\n",
       "    (0): Flatten(start_dim=1, end_dim=-1)\n",
       "    (1): Linear(in_features=6272, out_features=1, bias=True)\n",
       "    (2): Sigmoid()\n",
       "  )\n",
       ")"
      ]
     },
     "execution_count": 38,
     "metadata": {},
     "output_type": "execute_result"
    }
   ],
   "source": [
    "# === Step 3: Load Pretrained Models ===\n",
    "latent_dim = 100\n",
    "img_dim = 28 * 28\n",
    "\n",
    "g = Generator(latent_dim, img_dim).to(device)\n",
    "d = ConvDiscriminator().to(device)\n",
    "\n",
    "g.load_state_dict(torch.load(\"../test/gen_epoch_14.pth\", map_location=device))\n",
    "g.eval()\n",
    "d.eval()"
   ]
  },
  {
   "cell_type": "code",
   "execution_count": 39,
   "id": "904d83a2",
   "metadata": {},
   "outputs": [],
   "source": [
    "z = torch.randn(1, latent_dim).to(device)\n",
    "with torch.no_grad():\n",
    "    sr_img = g(z).detach().squeeze()  # Output: (1, 784)\n"
   ]
  },
  {
   "cell_type": "code",
   "execution_count": 40,
   "id": "dc736142",
   "metadata": {},
   "outputs": [],
   "source": [
    "# === Step 5: Grad-CAM Implementation ===\n",
    "class GradCAM:\n",
    "    def __init__(self, model, target_layer):\n",
    "        self.model = model\n",
    "        self.target_layer = target_layer\n",
    "\n",
    "        self.gradients = None\n",
    "        self.activations = None\n",
    "\n",
    "        self._register_hooks()\n",
    "\n",
    "    def _register_hooks(self):\n",
    "        def forward_hook(module, input, output):\n",
    "            self.activations = output.detach()\n",
    "\n",
    "        def backward_hook(module, grad_input, grad_output):\n",
    "            self.gradients = grad_output[0].detach()\n",
    "\n",
    "        self.target_layer.register_forward_hook(forward_hook)\n",
    "        self.target_layer.register_full_backward_hook(backward_hook)\n",
    "\n",
    "    def __call__(self, x):\n",
    "        # Make sure input is in the form [B, C, H, W]\n",
    "        if isinstance(x, torch.Tensor):\n",
    "            if x.ndim == 1:  # [784]\n",
    "                x = x.view(1, 1, 28, 28)\n",
    "            elif x.ndim == 2:  # [1, 784]\n",
    "                x = x.view(-1, 1, 28, 28)\n",
    "            elif x.ndim == 3:  # [1, 28, 28]\n",
    "                x = x.unsqueeze(0)\n",
    "            elif x.ndim == 4:\n",
    "                pass  # already [B, C, H, W]\n",
    "            else:\n",
    "                raise ValueError(f\"Unsupported input shape: {x.shape}\")\n",
    "        else:\n",
    "            raise TypeError(\"Input must be a torch.Tensor\")\n",
    "\n",
    "        x = x.requires_grad_()\n",
    "\n",
    "        # Forward pass\n",
    "        output = self.model(x)\n",
    "\n",
    "        # Backward pass\n",
    "        self.model.zero_grad()\n",
    "        output.backward(torch.ones_like(output))\n",
    "\n",
    "        # Global average pooling of gradients\n",
    "        weights = self.gradients.mean(dim=[2, 3], keepdim=True)\n",
    "        cam = (weights * self.activations).sum(dim=1, keepdim=True)\n",
    "        cam = F.relu(cam)\n",
    "\n",
    "        # Resize and normalize\n",
    "        cam = F.interpolate(cam, size=(28, 28), mode='bilinear', align_corners=False)\n",
    "        cam = cam.squeeze().cpu().numpy()\n",
    "        cam = (cam - cam.min()) / (cam.max() - cam.min() + 1e-8)\n",
    "\n",
    "        return cam"
   ]
  },
  {
   "cell_type": "markdown",
   "id": "d3714762",
   "metadata": {},
   "source": [
    "With this implementation, we can now visualize the model behaviour and understand what is happening for it to make the decisions it is making"
   ]
  },
  {
   "cell_type": "code",
   "execution_count": 45,
   "id": "fc55328d",
   "metadata": {},
   "outputs": [
    {
     "name": "stdout",
     "output_type": "stream",
     "text": [
      "lr_img shape before: torch.Size([1, 784])\n"
     ]
    },
    {
     "data": {
      "image/png": "[encoded data removed]",
      "text/plain": [
       "<Figure size 1000x400 with 3 Axes>"
      ]
     },
     "metadata": {},
     "output_type": "display_data"
    }
   ],
   "source": [
    "# === Step 6: Run Grad-CAM ===\n",
    "target_layer = 'features.3'  # LeakyReLU after second Conv2d\n",
    "grad_cam = GradCAM(d, d.features[3])  # use second conv layer\n",
    "cam_output = grad_cam(sr_img)\n",
    "\n",
    "# === Plotting ===\n",
    "def show_img(img):\n",
    "    import numpy as np\n",
    "    import torch\n",
    "\n",
    "    # Convert tensor to numpy\n",
    "    if isinstance(img, torch.Tensor):\n",
    "        img = img.detach().cpu().numpy()\n",
    "\n",
    "    # Remove batch dimension if present\n",
    "    if img.ndim == 2 and img.shape[0] == 1:\n",
    "        img = img[0]\n",
    "\n",
    "    # Flattened? Reshape it\n",
    "    if img.ndim == 1 and img.shape[0] == 784:\n",
    "        img = img.reshape(28, 28)\n",
    "\n",
    "    return img\n",
    "\n",
    "\n",
    "print(f\"lr_img shape before: {lr_img.shape}\")\n",
    "plt.figure(figsize=(10, 4))\n",
    "\n",
    "plt.subplot(1, 3, 1)\n",
    "plt.title(\"Low-Res MNIST\")\n",
    "plt.imshow(show_img(lr_img), cmap='gray')\n",
    "plt.axis(\"off\")\n",
    "\n",
    "plt.subplot(1, 3, 2)\n",
    "plt.title(\"SR Output\")\n",
    "plt.imshow(show_img(sr_img), cmap='gray')\n",
    "plt.axis(\"off\")\n",
    "\n",
    "plt.subplot(1, 3, 3)\n",
    "plt.title(\"Grad-CAM (Discriminator)\")\n",
    "plt.imshow(show_img(sr_img), cmap='gray')\n",
    "plt.imshow(cam_output, cmap='jet', alpha=0.5)\n",
    "plt.axis(\"off\")\n",
    "\n",
    "plt.tight_layout()\n",
    "plt.show()"
   ]
  },
  {
   "cell_type": "markdown",
   "id": "02fd7bf6",
   "metadata": {},
   "source": [
    "Once again, I encourage you not to place excessive emphasis on the results, as we are utilizing models with limited training for academic purposes. Instead, the focus should be on theoretical concepts and programming structure. I hope this material serves as a valuable guide for future projects in explainable AI. The ability of researchers to instill trust in models will be a key factor in achieving a proper and ethical integration of diverse methodologies across various industries."
   ]
  },
  {
   "cell_type": "markdown",
   "id": "83bce2d2",
   "metadata": {},
   "source": []
  }
 ],
 "metadata": {
  "kernelspec": {
   "display_name": "deep",
   "language": "python",
   "name": "python3"
  },
  "language_info": {
   "codemirror_mode": {
    "name": "ipython",
    "version": 3
   },
   "file_extension": ".py",
   "mimetype": "text/x-python",
   "name": "python",
   "nbconvert_exporter": "python",
   "pygments_lexer": "ipython3",
   "version": "3.10.16"
  }
 },
 "nbformat": 4,
 "nbformat_minor": 5
}
